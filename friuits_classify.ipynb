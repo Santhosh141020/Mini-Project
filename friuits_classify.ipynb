{
  "nbformat": 4,
  "nbformat_minor": 0,
  "metadata": {
    "colab": {
      "name": "friuits_classify.ipynb",
      "provenance": [],
      "collapsed_sections": [],
      "mount_file_id": "16KF5XDWZyICPWzNP1B-xQ7Oj_FzhQnR8",
      "authorship_tag": "ABX9TyOL9S8/Cy4M6mJ/0ngGMyRF",
      "include_colab_link": true
    },
    "kernelspec": {
      "name": "python3",
      "display_name": "Python 3"
    },
    "language_info": {
      "name": "python"
    }
  },
  "cells": [
    {
      "cell_type": "markdown",
      "metadata": {
        "id": "view-in-github",
        "colab_type": "text"
      },
      "source": [
        "<a href=\"https://colab.research.google.com/github/Santhosh141020/Minor-Project/blob/main/friuits_classify.ipynb\" target=\"_parent\"><img src=\"https://colab.research.google.com/assets/colab-badge.svg\" alt=\"Open In Colab\"/></a>"
      ]
    },
    {
      "cell_type": "markdown",
      "metadata": {
        "id": "lQqR7YIxcdWL"
      },
      "source": [
        "###INCLUDE NECESSARY HEADER FILES"
      ]
    },
    {
      "cell_type": "code",
      "metadata": {
        "id": "zc4ckmGSzaIL"
      },
      "source": [
        "import numpy as np\n",
        "import pandas as pd\n",
        "import matplotlib.pyplot as plt\n",
        "from skimage.transform import resize\n",
        "from skimage.io import imread,imshow\n",
        "import os\n",
        "from sklearn.model_selection import train_test_split\n",
        "from sklearn.metrics import accuracy_score\n",
        "from sklearn import svm\n"
      ],
      "execution_count": null,
      "outputs": []
    },
    {
      "cell_type": "markdown",
      "metadata": {
        "id": "qj5DPPmmc41-"
      },
      "source": [
        "### IMPORTING IMAGES FOR TRAINING\n",
        "Converting 2-D image into 1-D array"
      ]
    },
    {
      "cell_type": "code",
      "metadata": {
        "id": "d5k8S66zCqvN"
      },
      "source": [
        "category=['apple','blackberry','custardapple','pineapple']\n",
        "path='/content/drive/MyDrive/minor project/minor1'\n",
        "img_flat=[]\n",
        "target=[]\n",
        "for folder in os.listdir(path):\n",
        "  index=category.index(folder)\n",
        "  patha=os.path.join(path,folder)\n",
        "  for img in os.listdir(patha):\n",
        "    image=imread(os.path.join(patha,img))\n",
        "    img_resize=resize(image,output_shape=(50,50,3)) #resizing the image\n",
        "    img_flat.append(img_resize.flatten()) #converting it to 1-D array\n",
        "    target.append(index)\n",
        "img_flat=np.array(img_flat)\n",
        "target=np.array(target)"
      ],
      "execution_count": null,
      "outputs": []
    },
    {
      "cell_type": "markdown",
      "metadata": {
        "id": "fZgnssPTdIuU"
      },
      "source": [
        "### SPLITTING THE DATA INTO TRAINING AND TESTING"
      ]
    },
    {
      "cell_type": "code",
      "metadata": {
        "id": "fkqVMpYEJrut"
      },
      "source": [
        "x_train,x_test,y_train,y_test=train_test_split(img_flat,target, test_size=0.3, random_state=20)"
      ],
      "execution_count": null,
      "outputs": []
    },
    {
      "cell_type": "code",
      "metadata": {
        "colab": {
          "base_uri": "https://localhost:8080/"
        },
        "id": "dKnd4CtGyGL7",
        "outputId": "f5703a54-ee63-4d39-f3f5-3c4003ef9a29"
      },
      "source": [
        "x_train.shape"
      ],
      "execution_count": null,
      "outputs": [
        {
          "output_type": "execute_result",
          "data": {
            "text/plain": [
              "(111, 7500)"
            ]
          },
          "metadata": {
            "tags": []
          },
          "execution_count": 4
        }
      ]
    },
    {
      "cell_type": "markdown",
      "metadata": {
        "id": "cnmUtwrqdOy5"
      },
      "source": [
        "### CREATING MODEL "
      ]
    },
    {
      "cell_type": "code",
      "metadata": {
        "id": "3OBm8FJWLZmG"
      },
      "source": [
        "from sklearn.svm import SVC\n",
        "from sklearn.model_selection import GridSearchCV\n",
        "\n",
        "model = SVC(gamma='scale', probability=True)\n",
        "parameter_grid = {'C':[1, 2, 3, 10, 100], 'kernel':['linear', 'rbf']}\n",
        "classifier = GridSearchCV(estimator=model, param_grid=parameter_grid,scoring='accuracy',cv=5,n_jobs=-1)"
      ],
      "execution_count": null,
      "outputs": []
    },
    {
      "cell_type": "markdown",
      "metadata": {
        "id": "JnWyi4uNdeh8"
      },
      "source": [
        "#### Fitting the Model"
      ]
    },
    {
      "cell_type": "code",
      "metadata": {
        "colab": {
          "base_uri": "https://localhost:8080/"
        },
        "id": "Jpii0y5xLjpQ",
        "outputId": "0a9d12ef-10fc-49a1-efc6-60cf2a8d6459"
      },
      "source": [
        "classifier.fit(x_train , y_train)"
      ],
      "execution_count": null,
      "outputs": [
        {
          "output_type": "execute_result",
          "data": {
            "text/plain": [
              "GridSearchCV(cv=5, error_score=nan,\n",
              "             estimator=SVC(C=1.0, break_ties=False, cache_size=200,\n",
              "                           class_weight=None, coef0=0.0,\n",
              "                           decision_function_shape='ovr', degree=3,\n",
              "                           gamma='scale', kernel='rbf', max_iter=-1,\n",
              "                           probability=True, random_state=None, shrinking=True,\n",
              "                           tol=0.001, verbose=False),\n",
              "             iid='deprecated', n_jobs=-1,\n",
              "             param_grid={'C': [1, 2, 3, 10, 100], 'kernel': ['linear', 'rbf']},\n",
              "             pre_dispatch='2*n_jobs', refit=True, return_train_score=False,\n",
              "             scoring='accuracy', verbose=0)"
            ]
          },
          "metadata": {
            "tags": []
          },
          "execution_count": 6
        }
      ]
    },
    {
      "cell_type": "code",
      "metadata": {
        "colab": {
          "base_uri": "https://localhost:8080/"
        },
        "id": "7VpKXMCCqaea",
        "outputId": "28147e28-58e3-45bb-f506-33d5d2c74ece"
      },
      "source": [
        "print(y_train[1])\n",
        "classifier.decision_function(x_train[0:2])"
      ],
      "execution_count": null,
      "outputs": [
        {
          "output_type": "stream",
          "text": [
            "3\n"
          ],
          "name": "stdout"
        },
        {
          "output_type": "execute_result",
          "data": {
            "text/plain": [
              "array([[ 0.84879979,  3.25234289,  1.8898447 , -0.21394345],\n",
              "       [-0.23215482,  0.81714463,  2.0665329 ,  3.25509154]])"
            ]
          },
          "metadata": {
            "tags": []
          },
          "execution_count": 7
        }
      ]
    },
    {
      "cell_type": "code",
      "metadata": {
        "colab": {
          "base_uri": "https://localhost:8080/"
        },
        "id": "WyFtkXbmLnQJ",
        "outputId": "2e782c71-068f-4743-e0d1-61ae6e480f09"
      },
      "source": [
        "best_parameters = classifier.best_params_\n",
        "print(\"BEST_PARAMETERS:\",best_parameters)"
      ],
      "execution_count": null,
      "outputs": [
        {
          "output_type": "stream",
          "text": [
            "BEST_PARAMETERS: {'C': 2, 'kernel': 'rbf'}\n"
          ],
          "name": "stdout"
        }
      ]
    },
    {
      "cell_type": "code",
      "metadata": {
        "colab": {
          "base_uri": "https://localhost:8080/"
        },
        "id": "VpHR7c2ELvsg",
        "outputId": "384eff8c-5bea-4f48-a2ec-f0f123bb295b"
      },
      "source": [
        "best_result = classifier.best_score_\n",
        "print(\"BEST_SCORE: \",best_result)"
      ],
      "execution_count": null,
      "outputs": [
        {
          "output_type": "stream",
          "text": [
            "BEST_SCORE:  0.9098814229249012\n"
          ],
          "name": "stdout"
        }
      ]
    },
    {
      "cell_type": "markdown",
      "metadata": {
        "id": "5tTnIDFbdws5"
      },
      "source": [
        "### Predicting the result for test data\n",
        "#### Finding and plotting confusion Matrix\n",
        "#### Finding Accuracy"
      ]
    },
    {
      "cell_type": "code",
      "metadata": {
        "colab": {
          "base_uri": "https://localhost:8080/",
          "height": 530
        },
        "id": "XXqnhVLlLy9D",
        "outputId": "96504a7a-7394-45b2-f1e3-c0536654bea3"
      },
      "source": [
        "import seaborn as sb\n",
        "from sklearn.metrics import confusion_matrix\n",
        "y_pred = classifier.predict(x_test)\n",
        "cm = confusion_matrix(y_test, y_pred)\n",
        "plt.figure(figsize=(8,8))\n",
        "sb.heatmap(cm, annot=True, cmap=\"YlGnBu\",xticklabels=category, yticklabels=category)\n",
        "plt.title(\"CONFUSION MATRIX\")\n",
        "plt.xlabel(\"Predicted\")\n",
        "plt.ylabel(\"True_Values\")"
      ],
      "execution_count": null,
      "outputs": [
        {
          "output_type": "execute_result",
          "data": {
            "text/plain": [
              "Text(51.0, 0.5, 'True_Values')"
            ]
          },
          "metadata": {
            "tags": []
          },
          "execution_count": 10
        },
        {
          "output_type": "display_data",
          "data": {
            "image/png": "[encoded data removed]",
            "text/plain": [
              "<Figure size 576x576 with 2 Axes>"
            ]
          },
          "metadata": {
            "tags": [],
            "needs_background": "light"
          }
        }
      ]
    },
    {
      "cell_type": "code",
      "metadata": {
        "colab": {
          "base_uri": "https://localhost:8080/"
        },
        "id": "0V2XS6MTvffM",
        "outputId": "0f6fa5a5-6ef1-4cc5-ca50-389144ee44e0"
      },
      "source": [
        "print('Accuracy : ',accuracy_score(y_test,y_pred)*100)"
      ],
      "execution_count": null,
      "outputs": [
        {
          "output_type": "stream",
          "text": [
            "Accuracy :  95.83333333333334\n"
          ],
          "name": "stdout"
        }
      ]
    },
    {
      "cell_type": "markdown",
      "metadata": {
        "id": "NGKkvZGbeCjf"
      },
      "source": [
        "### Predicting for the new data"
      ]
    },
    {
      "cell_type": "code",
      "metadata": {
        "id": "-RQjSjZCL9LG"
      },
      "source": [
        "flat=[]\n",
        "pred_path='/content/drive/MyDrive/minor project/predict'\n",
        "actual=[]\n",
        "for y in os.listdir(pred_path):\n",
        "  pathb=os.path.join(pred_path,y)\n",
        "  image=imread(pathb)\n",
        "  y_resize=resize(image,output_shape=(50,50,3))\n",
        "  flat.append(y_resize.flatten())\n",
        "  actual.append(y)\n"
      ],
      "execution_count": null,
      "outputs": []
    },
    {
      "cell_type": "markdown",
      "metadata": {
        "id": "wc1BMR9dwtLz"
      },
      "source": [
        "#### Finding the probabilty score of how it predicts to which class it belongs"
      ]
    },
    {
      "cell_type": "code",
      "metadata": {
        "id": "ohYRVCPmw-uu",
        "colab": {
          "base_uri": "https://localhost:8080/"
        },
        "outputId": "4cf70ba9-a3aa-45fe-d0c7-a8badbcaa2e1"
      },
      "source": [
        "pred=classifier.predict(flat)\n",
        "print(classifier.decision_function(flat))"
      ],
      "execution_count": null,
      "outputs": [
        {
          "output_type": "stream",
          "text": [
            "[[-0.18076808  3.23516771  1.93690579  0.83524765]\n",
            " [-0.18587613  3.21130876  0.89969556  1.98696097]\n",
            " [-0.17009679  1.88569818  3.24247456  0.82503334]\n",
            " [ 0.91163686  2.04750442  3.20619548 -0.19600738]\n",
            " [ 3.25016434  1.97917911  0.82320797 -0.21479022]\n",
            " [ 3.23806021  2.15517831  0.79705968 -0.21485141]\n",
            " [ 3.24893196  0.84168154  1.91548941 -0.21011117]\n",
            " [ 3.24544337  2.07734578 -0.21036989  0.80649151]\n",
            " [ 3.25007754  1.88741372  0.81693287 -0.18683999]\n",
            " [ 3.23690363  2.13890931  0.84461093 -0.23226105]\n",
            " [ 3.26905074  1.81839884 -0.21963866  0.82873425]\n",
            " [ 3.24126884  1.92329271  0.84859866 -0.1994407 ]\n",
            " [ 3.20714871  2.18799627  0.89176586 -0.23683588]\n",
            " [-0.19275742  0.84415182  3.17729233  2.17558712]\n",
            " [-0.14194039  0.84924842  2.13267505  3.1584548 ]\n",
            " [-0.15821375  1.87004005  3.23432376  0.84939566]]\n"
          ],
          "name": "stdout"
        }
      ]
    },
    {
      "cell_type": "code",
      "metadata": {
        "id": "8Z5inqPNzNoO",
        "colab": {
          "base_uri": "https://localhost:8080/",
          "height": 521
        },
        "outputId": "b443440f-e696-498e-a538-75e7df672633"
      },
      "source": [
        "df=pd.DataFrame({'Actual_Fruit':actual,'Predicted_Fruit':pred})\n",
        "df['Predicted_Fruit'].replace({0:'Apple',1:'Black Berry',2:'Custard Apple',3:'Pineapple'},inplace=True)\n",
        "df"
      ],
      "execution_count": null,
      "outputs": [
        {
          "output_type": "execute_result",
          "data": {
            "text/html": [
              "<div>\n",
              "<style scoped>\n",
              "    .dataframe tbody tr th:only-of-type {\n",
              "        vertical-align: middle;\n",
              "    }\n",
              "\n",
              "    .dataframe tbody tr th {\n",
              "        vertical-align: top;\n",
              "    }\n",
              "\n",
              "    .dataframe thead th {\n",
              "        text-align: right;\n",
              "    }\n",
              "</style>\n",
              "<table border=\"1\" class=\"dataframe\">\n",
              "  <thead>\n",
              "    <tr style=\"text-align: right;\">\n",
              "      <th></th>\n",
              "      <th>Actual_Fruit</th>\n",
              "      <th>Predicted_Fruit</th>\n",
              "    </tr>\n",
              "  </thead>\n",
              "  <tbody>\n",
              "    <tr>\n",
              "      <th>0</th>\n",
              "      <td>blackberry1.jpg</td>\n",
              "      <td>Black Berry</td>\n",
              "    </tr>\n",
              "    <tr>\n",
              "      <th>1</th>\n",
              "      <td>blackberry2.jpg</td>\n",
              "      <td>Black Berry</td>\n",
              "    </tr>\n",
              "    <tr>\n",
              "      <th>2</th>\n",
              "      <td>custardapple2.jpg</td>\n",
              "      <td>Custard Apple</td>\n",
              "    </tr>\n",
              "    <tr>\n",
              "      <th>3</th>\n",
              "      <td>custardapple1.jpg</td>\n",
              "      <td>Custard Apple</td>\n",
              "    </tr>\n",
              "    <tr>\n",
              "      <th>4</th>\n",
              "      <td>apple9.jpg</td>\n",
              "      <td>Apple</td>\n",
              "    </tr>\n",
              "    <tr>\n",
              "      <th>5</th>\n",
              "      <td>apple3.jpg</td>\n",
              "      <td>Apple</td>\n",
              "    </tr>\n",
              "    <tr>\n",
              "      <th>6</th>\n",
              "      <td>apple2.jpg</td>\n",
              "      <td>Apple</td>\n",
              "    </tr>\n",
              "    <tr>\n",
              "      <th>7</th>\n",
              "      <td>apple4.jpg</td>\n",
              "      <td>Apple</td>\n",
              "    </tr>\n",
              "    <tr>\n",
              "      <th>8</th>\n",
              "      <td>apple0.jpg</td>\n",
              "      <td>Apple</td>\n",
              "    </tr>\n",
              "    <tr>\n",
              "      <th>9</th>\n",
              "      <td>apple6.jpg</td>\n",
              "      <td>Apple</td>\n",
              "    </tr>\n",
              "    <tr>\n",
              "      <th>10</th>\n",
              "      <td>apple7.jpg</td>\n",
              "      <td>Apple</td>\n",
              "    </tr>\n",
              "    <tr>\n",
              "      <th>11</th>\n",
              "      <td>apple8.jpg</td>\n",
              "      <td>Apple</td>\n",
              "    </tr>\n",
              "    <tr>\n",
              "      <th>12</th>\n",
              "      <td>apple1.jpg</td>\n",
              "      <td>Apple</td>\n",
              "    </tr>\n",
              "    <tr>\n",
              "      <th>13</th>\n",
              "      <td>apple5.jpg</td>\n",
              "      <td>Custard Apple</td>\n",
              "    </tr>\n",
              "    <tr>\n",
              "      <th>14</th>\n",
              "      <td>pineapple.jpg</td>\n",
              "      <td>Pineapple</td>\n",
              "    </tr>\n",
              "    <tr>\n",
              "      <th>15</th>\n",
              "      <td>pineapple2.jpg</td>\n",
              "      <td>Custard Apple</td>\n",
              "    </tr>\n",
              "  </tbody>\n",
              "</table>\n",
              "</div>"
            ],
            "text/plain": [
              "         Actual_Fruit Predicted_Fruit\n",
              "0     blackberry1.jpg     Black Berry\n",
              "1     blackberry2.jpg     Black Berry\n",
              "2   custardapple2.jpg   Custard Apple\n",
              "3   custardapple1.jpg   Custard Apple\n",
              "4          apple9.jpg           Apple\n",
              "5          apple3.jpg           Apple\n",
              "6          apple2.jpg           Apple\n",
              "7          apple4.jpg           Apple\n",
              "8          apple0.jpg           Apple\n",
              "9          apple6.jpg           Apple\n",
              "10         apple7.jpg           Apple\n",
              "11         apple8.jpg           Apple\n",
              "12         apple1.jpg           Apple\n",
              "13         apple5.jpg   Custard Apple\n",
              "14      pineapple.jpg       Pineapple\n",
              "15     pineapple2.jpg   Custard Apple"
            ]
          },
          "metadata": {
            "tags": []
          },
          "execution_count": 14
        }
      ]
    }
  ]
}